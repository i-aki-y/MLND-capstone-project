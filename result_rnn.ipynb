{
 "cells": [
  {
   "cell_type": "markdown",
   "metadata": {},
   "source": [
    "# RNN"
   ]
  },
  {
   "cell_type": "code",
   "execution_count": 1,
   "metadata": {
    "collapsed": true
   },
   "outputs": [],
   "source": [
    "%load_ext autoreload\n",
    "%autoreload 2\n",
    "%matplotlib inline"
   ]
  },
  {
   "cell_type": "code",
   "execution_count": 2,
   "metadata": {},
   "outputs": [
    {
     "name": "stderr",
     "output_type": "stream",
     "text": [
      "Using TensorFlow backend.\n"
     ]
    }
   ],
   "source": [
    "from __future__ import division\n",
    "from __future__ import print_function\n",
    "\n",
    "from pprint import pprint\n",
    "\n",
    "import numpy as np\n",
    "import pandas as pd\n",
    "import matplotlib.pyplot as plt\n",
    "import seaborn as sns\n",
    "\n",
    "from keras.utils import plot_model\n",
    "\n",
    "from sklearn import preprocessing\n",
    "from sklearn.metrics import mean_absolute_error\n",
    "from sklearn.model_selection import ParameterSampler\n",
    "from sklearn.decomposition import PCA\n",
    "\n",
    "\n",
    "from lib import utils\n",
    "from lib import cols\n",
    "from lib import rnn_utils\n",
    "from lib import preprocess\n",
    "np.random.seed(seed=13)"
   ]
  },
  {
   "cell_type": "markdown",
   "metadata": {},
   "source": [
    "## Preprocessing"
   ]
  },
  {
   "cell_type": "code",
   "execution_count": 3,
   "metadata": {},
   "outputs": [
    {
     "name": "stderr",
     "output_type": "stream",
     "text": [
      "lib/utils.py:184: UserWarning: Boolean Series key will be reindexed to match DataFrame index.\n",
      "  df_train_iq = df_dev_iq[is_train_iq]\n",
      "lib/utils.py:185: UserWarning: Boolean Series key will be reindexed to match DataFrame index.\n",
      "  df_valid_iq = df_dev_iq[is_valid_iq]\n",
      "lib/utils.py:186: UserWarning: Boolean Series key will be reindexed to match DataFrame index.\n",
      "  df_devtest_iq = df_dev_iq[is_devtest_iq]\n"
     ]
    },
    {
     "name": "stdout",
     "output_type": "stream",
     "text": [
      "sj train: 675 lines\t valid: 156 lines\t devtest: 105 lines\t test: 260 lines\n",
      "iq train: 363 lines\t valid: 104 lines\t devtest: 53 lines\t test: 156 lines\n",
      "sj valid: 0.19%\n",
      "iq valid: 0.22%\n"
     ]
    }
   ],
   "source": [
    "ds_sj, ds_iq = preprocess.preprocess()"
   ]
  },
  {
   "cell_type": "code",
   "execution_count": 4,
   "metadata": {
    "collapsed": true
   },
   "outputs": [],
   "source": [
    "# define some feature names\n",
    "col_orig_feats = cols.orig_feats\n",
    "col_scaled_feats = cols.get_scaled_feats(col_orig_feats)"
   ]
  },
  {
   "cell_type": "code",
   "execution_count": 5,
   "metadata": {
    "collapsed": true
   },
   "outputs": [],
   "source": [
    "def lag_col(i, cols=col_orig_feats):\n",
    "    \"\"\"Get time lag column names\n",
    "    \"\"\"\n",
    "    return [\"{0}_lag{1}\".format(col, i) for col in cols]\n",
    "\n",
    "def make_rnn_x(df, ts=5, cols=col_orig_feats):\n",
    "    \"\"\"Make RNN's input data\n",
    "    This makes input data for RNN model.\n",
    "    This assumes that the given dataframe have columns the name matches `{col}_log{i}`\n",
    "\n",
    "    Returns:\n",
    "      X: numpy array with shape (D, T, N)\n",
    "         where D:sample num, T: time sequence, N: feature num.\n",
    "    \"\"\"\n",
    "    ts_list = [df[lag_col(i, cols)].values for i in range(ts, 0, -1)]\n",
    "    return np.transpose(ts_list, (1, 0, 2))\n",
    "\n",
    "def get_X_y(df, ts_offset, ts_len, cols=col_orig_feats ):\n",
    "    \"\"\"Make X and y values for RNN    \n",
    "    \"\"\"\n",
    "    X = make_rnn_x(df[ts_offset:], ts_len, cols)\n",
    "    y = df.total_cases.values[ts_offset:].reshape(-1, 1)\n",
    "    return X, y"
   ]
  },
  {
   "cell_type": "markdown",
   "metadata": {},
   "source": [
    "## Create input data"
   ]
  },
  {
   "cell_type": "code",
   "execution_count": 6,
   "metadata": {
    "collapsed": true
   },
   "outputs": [],
   "source": [
    "ts_len = 24\n",
    "n_feats = len(col_scaled_feats)\n",
    "\n",
    "X_sj, y_sj = get_X_y(ds_sj.df_train, ts_len, ts_len, col_scaled_feats)\n",
    "X_valid_sj, y_valid_sj = get_X_y(ds_sj.df_valid, 0, ts_len, col_scaled_feats)\n",
    "X_devtest_sj, y_devtest_sj = get_X_y(ds_sj.df_devtest, 0, ts_len, col_scaled_feats)\n",
    "X_all_sj, y_all_sj = get_X_y(ds_sj.df_all, ts_len, ts_len, col_scaled_feats)\n",
    "X_test_sj = make_rnn_x(ds_sj.df_test, ts_len, col_scaled_feats)\n",
    "\n",
    "ts_len = 24\n",
    "X_iq, y_iq = get_X_y(ds_iq.df_train, ts_len, ts_len, col_scaled_feats)\n",
    "X_valid_iq, y_valid_iq = get_X_y(ds_iq.df_valid, 0, ts_len, col_scaled_feats)\n",
    "X_devtest_iq, y_devtest_iq = get_X_y(ds_iq.df_devtest, 0, ts_len, col_scaled_feats)\n",
    "X_all_iq, y_all_iq = get_X_y(ds_iq.df_all, ts_len, ts_len, col_scaled_feats)\n",
    "X_test_iq = make_rnn_x(ds_iq.df_test, ts_len, col_scaled_feats)\n"
   ]
  },
  {
   "cell_type": "code",
   "execution_count": null,
   "metadata": {
    "collapsed": true
   },
   "outputs": [],
   "source": [
    "def train(X, y, X_val, y_val, X_devtest, y_devtest, params):\n",
    "    \n",
    "    np.random.seed(33) # for reproducibility\n",
    "    \n",
    "    from keras.models import Sequential  \n",
    "    from keras.layers.core import Dense, Activation  \n",
    "    from keras.layers.recurrent import LSTM\n",
    "    from keras.callbacks import EarlyStopping\n",
    "    from keras.optimizers import Adam\n",
    "\n",
    "    _, ts_len, n = X.shape\n",
    "    \n",
    "    hidden_units_1 = params[\"hidden_units_1\"] \n",
    "    hidden_units_2 = params[\"hidden_units_2\"] \n",
    "    fc_units = params[\"fc_units\"]\n",
    "    \n",
    "    lr = params[\"lr\"]\n",
    "    bs = params[\"batch_size\"]\n",
    "    patience = params[\"early_stopping_patience\"]\n",
    "        \n",
    "    early_stopping = EarlyStopping(monitor='val_loss', patience=patience)\n",
    "    \n",
    "    output_units = 1\n",
    "    \n",
    "    model = Sequential()\n",
    "    model.add(LSTM(hidden_units_1, batch_input_shape=(None, ts_len, n), return_sequences=True))\n",
    "    model.add(LSTM(hidden_units_2, return_sequences=False))\n",
    "    model.add(Dense(fc_units))\n",
    "    model.add(Activation(\"relu\"))  \n",
    "    model.add(Dense(output_units))\n",
    "    \n",
    "    opt = Adam(lr=lr)\n",
    "    model.compile(loss=\"mean_absolute_error\", optimizer=opt)\n",
    "    model.fit(X, y, batch_size=bs, nb_epoch=300, validation_data=(X_val, y_val),\n",
    "                 callbacks=[early_stopping],\n",
    "                 verbose=2)\n",
    "    \n",
    "    score_devtest = get_scores(model, X_devtest, y_devtest)\n",
    "    score_valid = get_scores(model, X_val, y_val)\n",
    "    print(\"valid_score:{0}, devtest_score:{1}\".format(score_valid, score_devtest))\n",
    "    \n",
    "    return model\n",
    "\n",
    "def get_scores(model, X, y):\n",
    "    \"\"\"Calculate prediction scores\n",
    "    \"\"\"\n",
    "    y_pred = np.around(model.predict(X).squeeze()).astype(int)\n",
    "    y_true = y.squeeze()\n",
    "    score = mean_absolute_error(y_true, y_pred)\n",
    "    return score\n",
    "\n",
    "def plot_result(model, X, df):\n",
    "    \"\"\"Plot prediction and grand truthe\n",
    "    \"\"\"\n",
    "    predicted = model.predict(X)\n",
    "    df[\"predict\"] = np.r_[np.zeros(ts_len), predicted.squeeze()]\n",
    "    ax = df.plot(x=\"week_start_date\", y=\"total_cases\", figsize=(15, 5))\n",
    "    df.plot(x=\"week_start_date\", y=\"predict\", ax=ax)"
   ]
  },
  {
   "cell_type": "markdown",
   "metadata": {},
   "source": [
    "## Training model"
   ]
  },
  {
   "cell_type": "code",
   "execution_count": null,
   "metadata": {},
   "outputs": [
    {
     "name": "stderr",
     "output_type": "stream",
     "text": [
      "/home/akiyuki/.pyenv/versions/miniconda2-4.1.11/envs/mle-capstone/lib/python2.7/site-packages/keras/models.py:826: UserWarning: The `nb_epoch` argument in `fit` has been renamed `epochs`.\n",
      "  warnings.warn('The `nb_epoch` argument in `fit` '\n"
     ]
    }
   ],
   "source": [
    "params = dict(\n",
    "    hidden_units_1 = 64,\n",
    "    hidden_units_2 = 48,\n",
    "    fc_units = 16,\n",
    "    lr = 0.0003,\n",
    "    batch_size = 64,\n",
    "    early_stopping_patience = 5,\n",
    ")\n",
    "\n",
    "model_sj = train(X_sj,\n",
    "                 y_sj,\n",
    "                 X_valid_sj,\n",
    "                 y_valid_sj,\n",
    "                 X_devtest_sj,\n",
    "                 y_devtest_sj,\n",
    "                 params)"
   ]
  },
  {
   "cell_type": "code",
   "execution_count": null,
   "metadata": {},
   "outputs": [],
   "source": [
    "# save structore\n",
    "plot_model(model_sj, \"./img/keras_model_sj.png\")"
   ]
  },
  {
   "cell_type": "code",
   "execution_count": null,
   "metadata": {},
   "outputs": [],
   "source": [
    "params = dict(\n",
    "    hidden_units_1 = 64,\n",
    "    hidden_units_2 = 48,\n",
    "    fc_units = 16,\n",
    "    lr = 0.0003,\n",
    "    batch_size = 64,\n",
    "    early_stopping_patience = 5,\n",
    ")\n",
    "\n",
    "model_iq = train(X_iq, y_iq,\n",
    "                 X_valid_iq,\n",
    "                 y_valid_iq,\n",
    "                 X_devtest_iq,\n",
    "                 y_devtest_iq,\n",
    "                 params)"
   ]
  },
  {
   "cell_type": "markdown",
   "metadata": {},
   "source": [
    "## Plot Results"
   ]
  },
  {
   "cell_type": "code",
   "execution_count": null,
   "metadata": {},
   "outputs": [],
   "source": [
    "plot_result(model_sj, X_all_sj, ds_sj.df_all)\n",
    "plot_result(model_iq, X_all_iq, ds_iq.df_all)"
   ]
  },
  {
   "cell_type": "markdown",
   "metadata": {},
   "source": [
    "## Save Result"
   ]
  },
  {
   "cell_type": "code",
   "execution_count": null,
   "metadata": {
    "collapsed": true
   },
   "outputs": [],
   "source": [
    "rnn_utils.save_result(model_sj, model_iq, col_scaled_feats, col_scaled_feats, ds_sj.df_test, ds_iq.df_test, \"LSTM\")"
   ]
  }
 ],
 "metadata": {
  "kernelspec": {
   "display_name": "Python 2",
   "language": "python",
   "name": "python2"
  },
  "language_info": {
   "codemirror_mode": {
    "name": "ipython",
    "version": 2
   },
   "file_extension": ".py",
   "mimetype": "text/x-python",
   "name": "python",
   "nbconvert_exporter": "python",
   "pygments_lexer": "ipython2",
   "version": "2.7.13"
  }
 },
 "nbformat": 4,
 "nbformat_minor": 2
}
